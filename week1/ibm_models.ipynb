{
 "cells": [
  {
   "cell_type": "markdown",
   "metadata": {},
   "source": [
    "# NLP2 project 1: Lexical Alignment\n",
    "###  Kai Liang, Yijie Zhang, Billy Chan"
   ]
  },
  {
   "cell_type": "code",
   "execution_count": 5,
   "metadata": {},
   "outputs": [],
   "source": [
    "# -*- coding:utf-8 -*-\n",
    "import sys\n",
    "import os\n",
    "import numpy as np\n",
    "import operator\n",
    "import aer\n",
    "from collections import *\n",
    "from decimal import *\n",
    "from aer import read_naacl_alignments\n",
    "import matplotlib.pyplot as plt"
   ]
  },
  {
   "cell_type": "markdown",
   "metadata": {},
   "source": [
    "## * Read Data"
   ]
  },
  {
   "cell_type": "code",
   "execution_count": 78,
   "metadata": {},
   "outputs": [
    {
     "name": "stdout",
     "output_type": "stream",
     "text": [
      "Number of English sentences in training set: 231164\n",
      "Number of French sentences in training set: 231164\n",
      "Number of English sentences in validation set: 37\n",
      "Number of French sentences in validation set: 37\n",
      "Number of English sentences in testing set: 447\n",
      "Number of French sentences in testing set: 447\n"
     ]
    }
   ],
   "source": [
    "# reading training data\n",
    "en_train = open('./training/hansards.36.2.e', mode='r', encoding='utf-8').read().splitlines() # utf-8 encoding\n",
    "fr_train = open('./training/hansards.36.2.f', mode='r', encoding='utf-8').read().splitlines() # utf-8 encoding\n",
    "\n",
    "# reading validation data\n",
    "en_val = open('./validation/dev.e', mode='r', encoding='utf-8').read().splitlines() # utf-8 encoding\n",
    "fr_val = open('./validation/dev.f', mode='r', encoding='utf-8').read().splitlines() # utf-8 encoding\n",
    "\n",
    "# reading test data\n",
    "en_test = open('./testing/test/test.e', mode='r', encoding='utf-8').read().splitlines() # utf-8 encoding\n",
    "fr_test = open('./testing/test/test.f', mode='r', encoding='utf-8').read().splitlines() # utf-8 encoding\n",
    "\n",
    "# path of gold standrad of validation data\n",
    "path_val = 'validation/dev.wa.nonullalign'\n",
    "\n",
    "# path of gold standrad of testing data\n",
    "path_test = 'testing/answers/test.wa.nonullalign'\n",
    "\n",
    "print('Number of English sentences in training set:', len(en_train))\n",
    "print('Number of French sentences in training set:', len(fr_train))\n",
    "print('Number of English sentences in validation set:', len(en_val))\n",
    "print('Number of French sentences in validation set:', len(fr_val))\n",
    "print('Number of English sentences in testing set:', len(en_test))\n",
    "print('Number of French sentences in testing set:', len(fr_test))"
   ]
  },
  {
   "cell_type": "code",
   "execution_count": 3,
   "metadata": {},
   "outputs": [
    {
     "name": "stdout",
     "output_type": "stream",
     "text": [
      "The first English sentence: 36 th Parliament , 2 nd Session \n"
     ]
    }
   ],
   "source": [
    "print('The first English sentence:', en_train[0])"
   ]
  },
  {
   "cell_type": "code",
   "execution_count": 4,
   "metadata": {},
   "outputs": [
    {
     "name": "stdout",
     "output_type": "stream",
     "text": [
      "The first French sentence: 36 e Législature , 2 ième Session \n"
     ]
    }
   ],
   "source": [
    "print('The first French sentence:', fr_train[0])"
   ]
  },
  {
   "cell_type": "code",
   "execution_count": 5,
   "metadata": {},
   "outputs": [],
   "source": [
    "# theta = np.load('theta_0.npy').item()\n",
    "# theta_10 = np.load('theta_10.npy').item()\n",
    "# count_f_e_0 = np.load('count_f_e_0.npy').item()\n",
    "# count_e_0 = np.load('count_e_0.npy').item()\n",
    "\n",
    "# '''\n",
    "# np.save('theta_0.npy', theta_0) \n",
    "# np.save('count_f_e_0.npy', count_f_e) \n",
    "# np.save('count_e_0.npy', count_e)\n",
    "# np.save('theta_10.npy', theta) \n",
    "# '''"
   ]
  },
  {
   "cell_type": "markdown",
   "metadata": {},
   "source": [
    "## * Data Preprocessing"
   ]
  },
  {
   "cell_type": "code",
   "execution_count": 7,
   "metadata": {},
   "outputs": [],
   "source": [
    "# split sentence into words\n",
    "def preprocess(s):\n",
    "    return s.split()"
   ]
  },
  {
   "cell_type": "code",
   "execution_count": 79,
   "metadata": {},
   "outputs": [],
   "source": [
    "# preprocess training data, validation data and testing data\n",
    "for i in range(len(en_train)):\n",
    "    en_train[i] = preprocess(en_train[i])\n",
    "    en_train[i] = ['NULLINDICATOR'] + en_train[i]\n",
    "    fr_train[i] = preprocess(fr_train[i])\n",
    "for i in range(len(en_val)):\n",
    "    en_val[i] = preprocess(en_val[i])\n",
    "    fr_val[i] = preprocess(fr_val[i])\n",
    "for i in range(len(en_test)):\n",
    "    en_test[i] = preprocess(en_test[i])\n",
    "    fr_test[i] = preprocess(fr_test[i])"
   ]
  },
  {
   "cell_type": "code",
   "execution_count": 8,
   "metadata": {},
   "outputs": [
    {
     "name": "stdout",
     "output_type": "stream",
     "text": [
      "Proccessed training example sentence: ['36', 'e', 'Législature', ',', '2', 'ième', 'Session']\n",
      "Proccessed validation example sentence: ['chacun', 'en', 'lui', '-', 'même', 'est', 'très', 'complexe', 'et', 'le', 'lien', 'entre', 'les', 'deux', 'le', 'est', 'encore', 'davantage', 'de', 'sorte', 'que', 'pour', 'beaucoup', 'la', 'situation', 'présente', 'est', 'confuse', '.']\n",
      "Proccessed testing example sentence: ['2', '.']\n"
     ]
    }
   ],
   "source": [
    "print('Proccessed training example sentence:', fr_train[0])\n",
    "print('Proccessed validation example sentence:', fr_val[0])\n",
    "print('Proccessed testing example sentence:', fr_test[0])"
   ]
  },
  {
   "cell_type": "markdown",
   "metadata": {},
   "source": [
    "## * Log-likelihood Computation"
   ]
  },
  {
   "cell_type": "code",
   "execution_count": 9,
   "metadata": {},
   "outputs": [],
   "source": [
    "def get_loglikelihood(en_train, fr_train, theta):\n",
    "    N = len(en_train)\n",
    "    loglikelihood_total = 0\n",
    "    for n in range(N): # for all pairs of sentences\n",
    "        \n",
    "        cleaned_en_n = en_train[n]\n",
    "        len_en_n = len(cleaned_en_n)\n",
    "        \n",
    "        cleaned_fr_n = fr_train[n]\n",
    "        len_fr_n = len(cleaned_fr_n)\n",
    "        \n",
    "        loglikelihood_n = np.log(len_fr_n/len_en_n) + len_fr_n * np.log(1/len_en_n)\n",
    "        for fr_word in cleaned_fr_n: # every french word\n",
    "            # find the english word that maximize p(fr/en) \n",
    "            max_p_fe = 0\n",
    "            for en_word in cleaned_en_n:\n",
    "                p_fe = theta[en_word][fr_word]\n",
    "                if p_fe > max_p_fe:\n",
    "                    max_p_fe = p_fe\n",
    "            \n",
    "            loglikelihood_n += np.log(float(max_p_fe))\n",
    "        loglikelihood_total += loglikelihood_n\n",
    "    return loglikelihood_total"
   ]
  },
  {
   "cell_type": "markdown",
   "metadata": {},
   "source": [
    "## * Compute AER"
   ]
  },
  {
   "cell_type": "code",
   "execution_count": 12,
   "metadata": {},
   "outputs": [],
   "source": [
    "def compute_aer(en_data, fr_data, path, theta):\n",
    "    # compute AER score for the given data\n",
    "    predictions = []\n",
    "    for s in range(len(en_data)):\n",
    "        alignments=[]\n",
    "        l_e = len(en_data[s])\n",
    "        l_f = len(fr_data[s])\n",
    "        for i in range(l_f):\n",
    "            vals = []\n",
    "            for j in range(l_e):\n",
    "                vals.append(theta[en_data[s][j]][fr_data[s][i]])\n",
    "            max_idx = vals.index(max(vals))\n",
    "            alignments.append((max_idx+1, i+1))\n",
    "        predictions.append(set(alignments))\n",
    "    gold_sets = read_naacl_alignments(path)\n",
    "    metric = aer.AERSufficientStatistics()\n",
    "    for gold, pred in zip(gold_sets, predictions):\n",
    "        metric.update(sure=gold[0], probable=gold[1], predicted=pred)\n",
    "    # AER\n",
    "    return metric.aer(), predictions  "
   ]
  },
  {
   "cell_type": "markdown",
   "metadata": {},
   "source": [
    "## * Export NAACL"
   ]
  },
  {
   "cell_type": "code",
   "execution_count": 11,
   "metadata": {},
   "outputs": [],
   "source": [
    "def export_naacl(predictions, filename):\n",
    "    with open('{}.naacl'.format(filename), 'w') as file:\n",
    "        for index, sen in enumerate(predictions):\n",
    "            for align in sen:\n",
    "                file.write('{} {} {} S\\n'.format(index+1, align[0], align[1]))\n",
    "    file.close()"
   ]
  },
  {
   "cell_type": "markdown",
   "metadata": {},
   "source": [
    "## * IBM1 - Initialize Parameters"
   ]
  },
  {
   "cell_type": "code",
   "execution_count": 80,
   "metadata": {},
   "outputs": [],
   "source": [
    "def init_theta(en_train, fr_train):\n",
    "    # initialize theta\n",
    "    theta = defaultdict(lambda: defaultdict(lambda: Decimal(0)))\n",
    "    N = len(en_train)\n",
    "    for n in range(N):\n",
    "        cleaned_en_n = en_train[n]\n",
    "        cleaned_fr_n = fr_train[n]     \n",
    "        for j_en_word in cleaned_en_n:\n",
    "            for i_fr_word in cleaned_fr_n:\n",
    "                theta[j_en_word][i_fr_word] = 0      \n",
    "    for en_word in theta:\n",
    "        count = len(theta[en_word])\n",
    "        for fr_word in theta[en_word]:\n",
    "            theta[en_word][fr_word] = Decimal(1 / count)\n",
    "    return theta"
   ]
  },
  {
   "cell_type": "code",
   "execution_count": 81,
   "metadata": {
    "scrolled": true
   },
   "outputs": [
    {
     "name": "stdout",
     "output_type": "stream",
     "text": [
      "Number of English words in the training set: 36636\n"
     ]
    }
   ],
   "source": [
    "theta = init_theta(en_train, fr_train)\n",
    "print('Number of English words in the training set:', len(theta))"
   ]
  },
  {
   "cell_type": "markdown",
   "metadata": {},
   "source": [
    "## * IBM1 - Update via EM"
   ]
  },
  {
   "cell_type": "code",
   "execution_count": 14,
   "metadata": {},
   "outputs": [],
   "source": [
    "def train_EM(en_train, fr_train, theta, en_val, fr_val, en_test, fr_test, path, K):\n",
    "    N = len(en_train)\n",
    "    AER = []\n",
    "    iteration = []\n",
    "    t_log = []\n",
    "    for k in range(K):\n",
    "        iteration.append(k+1)\n",
    "        print('Iteration {}:'.format(k))\n",
    "        count_f_e = defaultdict(lambda: Decimal(0))\n",
    "        count_e = defaultdict(lambda: Decimal(0))\n",
    "        for n in range(N):\n",
    "            cleaned_en_n = en_train[n]\n",
    "            cleaned_fr_n = fr_train[n]\n",
    "            for fr in cleaned_fr_n:\n",
    "                Z = 0\n",
    "                for en in cleaned_en_n:\n",
    "                    Z += theta[en][fr]\n",
    "                for en in cleaned_en_n:\n",
    "                    c = theta[en][fr] / Z\n",
    "                    count_f_e[(fr, en)] += c\n",
    "                    count_e[en] += c\n",
    "        for (f, e) in count_f_e:\n",
    "            theta[e][f] = count_f_e[(f, e)] / count_e[e]\n",
    "        # compute AER on the validation set\n",
    "        aer, _ = compute_aer(en_val, fr_val, path, theta)\n",
    "        print('Validation AER:', aer)\n",
    "        AER.append(aer)\n",
    "        \n",
    "        log_likelihood = get_loglikelihood(en_train, fr_train, theta)\n",
    "        t_log.append(log_likelihood)\n",
    "        print(\"Training log-likelihood:\", log_likelihood)\n",
    "#     np.save(\"theta_10.npy\", theta)\n",
    "    return theta, AER, t_log, iteration"
   ]
  },
  {
   "cell_type": "code",
   "execution_count": 15,
   "metadata": {
    "scrolled": false
   },
   "outputs": [
    {
     "name": "stdout",
     "output_type": "stream",
     "text": [
      "Iteration 0:\n",
      "Validation AER: 0.3748819641170916\n",
      "Training log-likelihood: -30865714.014653254\n",
      "Iteration 1:\n",
      "Validation AER: 0.33994334277620397\n",
      "Training log-likelihood: -26202135.770782452\n",
      "Iteration 2:\n",
      "Validation AER: 0.3305004721435316\n",
      "Training log-likelihood: -24288806.982518796\n",
      "Iteration 3:\n",
      "Validation AER: 0.33144475920679883\n",
      "Training log-likelihood: -23377239.632227864\n",
      "Iteration 4:\n",
      "Validation AER: 0.3305004721435316\n",
      "Training log-likelihood: -22847765.255030096\n",
      "Iteration 5:\n",
      "Validation AER: 0.3295561850802644\n",
      "Training log-likelihood: -22505412.76867087\n",
      "Iteration 6:\n",
      "Validation AER: 0.32672332389046266\n",
      "Training log-likelihood: -22268720.140491456\n",
      "Iteration 7:\n",
      "Validation AER: 0.32766761095373\n",
      "Training log-likelihood: -22097046.26241591\n",
      "Iteration 8:\n",
      "Validation AER: 0.3286118980169972\n",
      "Training log-likelihood: -21968133.330750603\n",
      "Iteration 9:\n",
      "Validation AER: 0.32483474976392823\n",
      "Training log-likelihood: -21868134.508379217\n"
     ]
    }
   ],
   "source": [
    "theta_10, AER, t_log, iteration = train_EM(en_train, fr_train, theta, en_val, fr_val, en_test, fr_test, path_val, K=10)"
   ]
  },
  {
   "cell_type": "markdown",
   "metadata": {},
   "source": [
    "## * Testing"
   ]
  },
  {
   "cell_type": "code",
   "execution_count": 51,
   "metadata": {
    "scrolled": true
   },
   "outputs": [
    {
     "name": "stdout",
     "output_type": "stream",
     "text": [
      "Test AER: 0.296465802186626\n",
      "File saved successfully.\n"
     ]
    }
   ],
   "source": [
    "aer_test, test_alignment = compute_aer(en_test, fr_test, path_test, theta_10)\n",
    "print('Test AER:', aer_test)\n",
    "export_naacl(test_alignment, 'result/ibm1.mle')\n",
    "print('File saved successfully.')"
   ]
  },
  {
   "cell_type": "markdown",
   "metadata": {},
   "source": [
    "## * Plotting"
   ]
  },
  {
   "cell_type": "code",
   "execution_count": 60,
   "metadata": {},
   "outputs": [
    {
     "data": {
      "image/png": "[encoded data removed]",
      "text/plain": [
       "<Figure size 720x360 with 1 Axes>"
      ]
     },
     "metadata": {
      "needs_background": "light"
     },
     "output_type": "display_data"
    }
   ],
   "source": [
    "aer_ibm1 = plt.figure(figsize = (10, 5))\n",
    "plt.plot(iteration, AER)\n",
    "plt.xlabel('Iteration')\n",
    "plt.ylabel('AER')\n",
    "plt.show()\n",
    "aer_ibm1.savefig('./result/aer-IBM1.eps')"
   ]
  },
  {
   "cell_type": "code",
   "execution_count": 63,
   "metadata": {},
   "outputs": [
    {
     "data": {
      "image/png": "[encoded data removed]",
      "text/plain": [
       "<Figure size 720x360 with 1 Axes>"
      ]
     },
     "metadata": {
      "needs_background": "light"
     },
     "output_type": "display_data"
    }
   ],
   "source": [
    "loss_ibm1 = plt.figure(figsize = (10, 5))\n",
    "plt.plot(iteration, t_log)\n",
    "plt.xlabel('Iteration')\n",
    "plt.ylabel('Log-likelihood')\n",
    "plt.show()\n",
    "loss_ibm1.savefig('./result/loglikelihood-IBM1.eps')"
   ]
  },
  {
   "cell_type": "markdown",
   "metadata": {},
   "source": [
    "## * IBM2 "
   ]
  },
  {
   "cell_type": "code",
   "execution_count": 60,
   "metadata": {},
   "outputs": [],
   "source": [
    "#defined some preparatory functions \n",
    "\n",
    "#function for defining the distance of jumping \n",
    "#eg aligning from 1st of fr sent to the last word of en sent is the max jump (jump =k) to the right\n",
    "#eg aligning the middle word of fr sent to the middle word of en sent means jump= 0\n",
    "def jump(i,j,I,J): #fr position, en pos, len(fr_sent_), len(en_sent_)\n",
    "    return i-np.floor(I*j/J)\n",
    "\n",
    "#given set of english sentence (in order to get the value of max jump, ie k) \n",
    "#return the theta of jumps (the prob of each jump)\n",
    "def theta_jump_init(en_sents):\n",
    "    #first get the range of the jumps -k, -k+1, ...-1, 0, 1,...k-1, k, \n",
    "    #where k is the length of the longest en_sent \n",
    "    max_jump_value = max(len(x) for x in en_sents) \n",
    "    \n",
    "    #as we have -k, -k+1,...0 ...k-1, k, ie 2k+1 categories of jumps\n",
    "    uniform_prob = Decimal(1/(max_jump_value*2 +1 ) )\n",
    "    \n",
    "    #theta_jump = {k:uniform_prob for k in range(-max_jump_value, max_jump_value+1)} #from -k to k\n",
    "    #use default dict instead\n",
    "    theta_jump = defaultdict(lambda:uniform_prob) #from -k to k\n",
    "    \n",
    "    return theta_jump, max_jump_value"
   ]
  },
  {
   "cell_type": "code",
   "execution_count": 61,
   "metadata": {},
   "outputs": [
    {
     "name": "stdout",
     "output_type": "stream",
     "text": [
      "-5.0\n",
      "5.0\n"
     ]
    }
   ],
   "source": [
    "#testing jump functions \n",
    "print(jump(0,10,5,10 )) #10 words fr to 5 word en: align last fr with first en (max left jump)\n",
    "print(jump(5,0,5,10 )) #10 words fr to 5 word en: align first fr with last en (max right jump)"
   ]
  },
  {
   "cell_type": "code",
   "execution_count": 75,
   "metadata": {},
   "outputs": [
    {
     "data": {
      "text/plain": [
       "Decimal('0.0434782608695652161845401906248298473656177520751953125')"
      ]
     },
     "execution_count": 75,
     "metadata": {},
     "output_type": "execute_result"
    }
   ],
   "source": [
    "#testing jump_theta_init functions \n",
    "\n",
    "#theta_jump_init[0] returns theta_jump, theta_jump_init[1] returns max_jump_value\n",
    "#the maxjump for this dataset is from -11 to +11 btw\n",
    "#just uniform values for all these 2*11+ 1 jump values, 1/(2*11+1)\n",
    "theta_jump_init(en_train[0:10])[0][11]  \n"
   ]
  },
  {
   "cell_type": "code",
   "execution_count": 76,
   "metadata": {},
   "outputs": [],
   "source": [
    "def train_EM_ibm2(en_train, fr_train, theta, en_val, fr_val, en_test, fr_test, path, K, theta_jump=None):\n",
    "    N = len(en_train)\n",
    "    AER = []\n",
    "    iteration = []\n",
    "    t_log = []\n",
    "    \n",
    "    #init jump_theta if not given:\n",
    "    if theta_jump==None:\n",
    "        theta_jump, max_jump_value = theta_jump_init(en_train) # a default dict for all possible jump distance\n",
    "        \n",
    "    for k in range(K):\n",
    "        iteration.append(k+1)\n",
    "        print('Iteration {}:'.format(k))\n",
    "        count_f_e = defaultdict(lambda: Decimal(0))\n",
    "        count_e = defaultdict(lambda: Decimal(0))\n",
    "        count_jump = defaultdict(lambda: Decimal(0)) #+count prob for each jump distance\n",
    "        count_jump_total = 0 #total prob jump distance for normalizing \n",
    "        \n",
    "        for n in range(N):\n",
    "            cleaned_en_n = en_train[n]\n",
    "            cleaned_fr_n = fr_train[n]\n",
    "            \n",
    "            J = len(cleaned_en_n) #en_sent_len\n",
    "            I = len(cleaned_fr_n) #fr_sent_len\n",
    "            \n",
    "            for i,fr in enumerate(cleaned_fr_n):\n",
    "                Z = 0\n",
    "                \n",
    "                for j,en in enumerate(cleaned_en_n):\n",
    "                    jump_distance = jump(i,j,I,J) # for this i, j alignment \n",
    "                    \n",
    "                    Z += theta[en][fr]*theta_jump[jump_distance]\n",
    "                    \n",
    "                for j,en in enumerate(cleaned_en_n):\n",
    "                    jump_distance = jump(i,j,I,J) # for this i, j alignment \n",
    "                    \n",
    "                    c = theta[en][fr]*theta_jump[jump_distance] / Z\n",
    "                    count_f_e[(fr, en)] += c\n",
    "                    count_e[en] += c\n",
    "                    count_jump[jump_distance]+=c\n",
    "                    count_jump_total+=c\n",
    "        \n",
    "        #M step for p(f|e)\n",
    "        for (f, e) in count_f_e:\n",
    "            theta[e][f] = count_f_e[(f, e)] / count_e[e]\n",
    "            \n",
    "        #M step for p(a)\n",
    "        for x in range(-max_jump_value, max_jump_value+1):\n",
    "            theta_jump[x] = count_jump[x]/count_jump_total\n",
    "        \n",
    "        # compute AER on the validation set\n",
    "        aer, _ = compute_aer(en_val, fr_val, path, theta)\n",
    "        print('Validation AER:', aer)\n",
    "        AER.append(aer)\n",
    "        \n",
    "        log_likelihood = get_loglikelihood(en_train, fr_train, theta)\n",
    "        t_log.append(log_likelihood)\n",
    "        print(\"Training log-likelihood:\", log_likelihood)\n",
    "#     np.save(\"theta_10.npy\", theta)\n",
    "    return theta, AER, t_log, iteration#holy fuck forgot to return theta_jump_dict"
   ]
  },
  {
   "cell_type": "code",
   "execution_count": 73,
   "metadata": {},
   "outputs": [
    {
     "name": "stdout",
     "output_type": "stream",
     "text": [
      "Iteration 0:\n",
      "Validation AER: 0.45892351274787535\n",
      "Training log-likelihood: -88971.6076682\n",
      "Iteration 1:\n",
      "Validation AER: 0.449480642115203\n",
      "Training log-likelihood: -81600.2899552\n",
      "Iteration 2:\n",
      "Validation AER: 0.4362606232294618\n",
      "Training log-likelihood: -78187.315069\n",
      "Iteration 3:\n",
      "Validation AER: 0.4353163361661945\n",
      "Training log-likelihood: -77481.3025608\n",
      "Iteration 4:\n",
      "Validation AER: 0.437204910292729\n",
      "Training log-likelihood: -77510.5726574\n",
      "Iteration 5:\n",
      "Validation AER: 0.44664778092540136\n",
      "Training log-likelihood: -77725.3815119\n",
      "Iteration 6:\n",
      "Validation AER: 0.45325779036827196\n",
      "Training log-likelihood: -77941.9091106\n",
      "Iteration 7:\n",
      "Validation AER: 0.4551463644948064\n",
      "Training log-likelihood: -78138.6004686\n",
      "Iteration 8:\n",
      "Validation AER: 0.4560906515580736\n",
      "Training log-likelihood: -78309.6209929\n",
      "Iteration 9:\n",
      "Validation AER: 0.4570349386213409\n",
      "Training log-likelihood: -78454.7876179\n"
     ]
    }
   ],
   "source": [
    "theta_10_2, AER_2, t_log_2, iteration_2 = train_EM_ibm2(en_train[0:1000], fr_train[0:1000], theta, en_val, fr_val, en_test, fr_test, path_val, K=10)"
   ]
  },
  {
   "cell_type": "code",
   "execution_count": 82,
   "metadata": {},
   "outputs": [
    {
     "name": "stdout",
     "output_type": "stream",
     "text": [
      "Iteration 0:\n",
      "Validation AER: 0.3748819641170916\n",
      "Training log-likelihood: -30865714.0147\n",
      "Iteration 1:\n",
      "Validation AER: 0.32483474976392823\n",
      "Training log-likelihood: -25392989.7332\n",
      "Iteration 2:\n",
      "Validation AER: 0.3163361661945231\n",
      "Training log-likelihood: -23221052.8118\n",
      "Iteration 3:\n",
      "Validation AER: 0.3050047214353163\n",
      "Training log-likelihood: -22453276.9864\n",
      "Iteration 4:\n",
      "Validation AER: 0.30594900849858353\n",
      "Training log-likelihood: -22183652.7188\n",
      "Iteration 5:\n",
      "Validation AER: 0.3097261567516525\n",
      "Training log-likelihood: -22080479.1983\n",
      "Iteration 6:\n",
      "Validation AER: 0.31255901794145424\n",
      "Training log-likelihood: -22034837.0535\n",
      "Iteration 7:\n",
      "Validation AER: 0.3106704438149197\n",
      "Training log-likelihood: -22012783.3288\n",
      "Iteration 8:\n",
      "Validation AER: 0.3097261567516525\n",
      "Training log-likelihood: -22001563.8957\n",
      "Iteration 9:\n",
      "Validation AER: 0.3106704438149197\n",
      "Training log-likelihood: -21995901.8457\n"
     ]
    }
   ],
   "source": [
    "theta_10_2, AER_2, t_log_2, iteration_2 = train_EM_ibm2(en_train, fr_train, theta, en_val, fr_val, en_test, fr_test, path_val, K=10)"
   ]
  },
  {
   "cell_type": "code",
   "execution_count": 84,
   "metadata": {},
   "outputs": [
    {
     "name": "stdout",
     "output_type": "stream",
     "text": [
      "Test AER: 0.2744300364437664\n",
      "File saved successfully.\n"
     ]
    }
   ],
   "source": [
    "aer_test_2, test_alignment_2 = compute_aer(en_test, fr_test, path_test, theta_10_2)\n",
    "print('Test AER:', aer_test_2)\n",
    "export_naacl(test_alignment_2, 'result/ibm2.mle')#ibm2\n",
    "print('File saved successfully.')"
   ]
  },
  {
   "cell_type": "code",
   "execution_count": 86,
   "metadata": {},
   "outputs": [
    {
     "ename": "TypeError",
     "evalue": "Object of type 'Decimal' is not JSON serializable",
     "output_type": "error",
     "traceback": [
      "\u001b[0;31m---------------------------------------------------------------------------\u001b[0m",
      "\u001b[0;31mTypeError\u001b[0m                                 Traceback (most recent call last)",
      "\u001b[0;32m<ipython-input-86-fed8c36dfd46>\u001b[0m in \u001b[0;36m<module>\u001b[0;34m\u001b[0m\n\u001b[1;32m      1\u001b[0m \u001b[0;32mimport\u001b[0m \u001b[0mjson\u001b[0m\u001b[0;34m\u001b[0m\u001b[0;34m\u001b[0m\u001b[0m\n\u001b[0;32m----> 2\u001b[0;31m \u001b[0mjson\u001b[0m\u001b[0;34m.\u001b[0m\u001b[0mdump\u001b[0m\u001b[0;34m(\u001b[0m\u001b[0mtheta_10_2\u001b[0m\u001b[0;34m,\u001b[0m \u001b[0mopen\u001b[0m\u001b[0;34m(\u001b[0m\u001b[0;34m'theta_10_2_uniform'\u001b[0m\u001b[0;34m,\u001b[0m \u001b[0;34m'w'\u001b[0m\u001b[0;34m)\u001b[0m\u001b[0;34m)\u001b[0m\u001b[0;34m\u001b[0m\u001b[0;34m\u001b[0m\u001b[0m\n\u001b[0m",
      "\u001b[0;32m~/anaconda/lib/python3.6/json/__init__.py\u001b[0m in \u001b[0;36mdump\u001b[0;34m(obj, fp, skipkeys, ensure_ascii, check_circular, allow_nan, cls, indent, separators, default, sort_keys, **kw)\u001b[0m\n\u001b[1;32m    177\u001b[0m     \u001b[0;31m# could accelerate with writelines in some versions of Python, at\u001b[0m\u001b[0;34m\u001b[0m\u001b[0;34m\u001b[0m\u001b[0;34m\u001b[0m\u001b[0m\n\u001b[1;32m    178\u001b[0m     \u001b[0;31m# a debuggability cost\u001b[0m\u001b[0;34m\u001b[0m\u001b[0;34m\u001b[0m\u001b[0;34m\u001b[0m\u001b[0m\n\u001b[0;32m--> 179\u001b[0;31m     \u001b[0;32mfor\u001b[0m \u001b[0mchunk\u001b[0m \u001b[0;32min\u001b[0m \u001b[0miterable\u001b[0m\u001b[0;34m:\u001b[0m\u001b[0;34m\u001b[0m\u001b[0;34m\u001b[0m\u001b[0m\n\u001b[0m\u001b[1;32m    180\u001b[0m         \u001b[0mfp\u001b[0m\u001b[0;34m.\u001b[0m\u001b[0mwrite\u001b[0m\u001b[0;34m(\u001b[0m\u001b[0mchunk\u001b[0m\u001b[0;34m)\u001b[0m\u001b[0;34m\u001b[0m\u001b[0;34m\u001b[0m\u001b[0m\n\u001b[1;32m    181\u001b[0m \u001b[0;34m\u001b[0m\u001b[0m\n",
      "\u001b[0;32m~/anaconda/lib/python3.6/json/encoder.py\u001b[0m in \u001b[0;36m_iterencode\u001b[0;34m(o, _current_indent_level)\u001b[0m\n\u001b[1;32m    428\u001b[0m             \u001b[0;32myield\u001b[0m \u001b[0;32mfrom\u001b[0m \u001b[0m_iterencode_list\u001b[0m\u001b[0;34m(\u001b[0m\u001b[0mo\u001b[0m\u001b[0;34m,\u001b[0m \u001b[0m_current_indent_level\u001b[0m\u001b[0;34m)\u001b[0m\u001b[0;34m\u001b[0m\u001b[0;34m\u001b[0m\u001b[0m\n\u001b[1;32m    429\u001b[0m         \u001b[0;32melif\u001b[0m \u001b[0misinstance\u001b[0m\u001b[0;34m(\u001b[0m\u001b[0mo\u001b[0m\u001b[0;34m,\u001b[0m \u001b[0mdict\u001b[0m\u001b[0;34m)\u001b[0m\u001b[0;34m:\u001b[0m\u001b[0;34m\u001b[0m\u001b[0;34m\u001b[0m\u001b[0m\n\u001b[0;32m--> 430\u001b[0;31m             \u001b[0;32myield\u001b[0m \u001b[0;32mfrom\u001b[0m \u001b[0m_iterencode_dict\u001b[0m\u001b[0;34m(\u001b[0m\u001b[0mo\u001b[0m\u001b[0;34m,\u001b[0m \u001b[0m_current_indent_level\u001b[0m\u001b[0;34m)\u001b[0m\u001b[0;34m\u001b[0m\u001b[0;34m\u001b[0m\u001b[0m\n\u001b[0m\u001b[1;32m    431\u001b[0m         \u001b[0;32melse\u001b[0m\u001b[0;34m:\u001b[0m\u001b[0;34m\u001b[0m\u001b[0;34m\u001b[0m\u001b[0m\n\u001b[1;32m    432\u001b[0m             \u001b[0;32mif\u001b[0m \u001b[0mmarkers\u001b[0m \u001b[0;32mis\u001b[0m \u001b[0;32mnot\u001b[0m \u001b[0;32mNone\u001b[0m\u001b[0;34m:\u001b[0m\u001b[0;34m\u001b[0m\u001b[0;34m\u001b[0m\u001b[0m\n",
      "\u001b[0;32m~/anaconda/lib/python3.6/json/encoder.py\u001b[0m in \u001b[0;36m_iterencode_dict\u001b[0;34m(dct, _current_indent_level)\u001b[0m\n\u001b[1;32m    402\u001b[0m                 \u001b[0;32melse\u001b[0m\u001b[0;34m:\u001b[0m\u001b[0;34m\u001b[0m\u001b[0;34m\u001b[0m\u001b[0m\n\u001b[1;32m    403\u001b[0m                     \u001b[0mchunks\u001b[0m \u001b[0;34m=\u001b[0m \u001b[0m_iterencode\u001b[0m\u001b[0;34m(\u001b[0m\u001b[0mvalue\u001b[0m\u001b[0;34m,\u001b[0m \u001b[0m_current_indent_level\u001b[0m\u001b[0;34m)\u001b[0m\u001b[0;34m\u001b[0m\u001b[0;34m\u001b[0m\u001b[0m\n\u001b[0;32m--> 404\u001b[0;31m                 \u001b[0;32myield\u001b[0m \u001b[0;32mfrom\u001b[0m \u001b[0mchunks\u001b[0m\u001b[0;34m\u001b[0m\u001b[0;34m\u001b[0m\u001b[0m\n\u001b[0m\u001b[1;32m    405\u001b[0m         \u001b[0;32mif\u001b[0m \u001b[0mnewline_indent\u001b[0m \u001b[0;32mis\u001b[0m \u001b[0;32mnot\u001b[0m \u001b[0;32mNone\u001b[0m\u001b[0;34m:\u001b[0m\u001b[0;34m\u001b[0m\u001b[0;34m\u001b[0m\u001b[0m\n\u001b[1;32m    406\u001b[0m             \u001b[0m_current_indent_level\u001b[0m \u001b[0;34m-=\u001b[0m \u001b[0;36m1\u001b[0m\u001b[0;34m\u001b[0m\u001b[0;34m\u001b[0m\u001b[0m\n",
      "\u001b[0;32m~/anaconda/lib/python3.6/json/encoder.py\u001b[0m in \u001b[0;36m_iterencode_dict\u001b[0;34m(dct, _current_indent_level)\u001b[0m\n\u001b[1;32m    402\u001b[0m                 \u001b[0;32melse\u001b[0m\u001b[0;34m:\u001b[0m\u001b[0;34m\u001b[0m\u001b[0;34m\u001b[0m\u001b[0m\n\u001b[1;32m    403\u001b[0m                     \u001b[0mchunks\u001b[0m \u001b[0;34m=\u001b[0m \u001b[0m_iterencode\u001b[0m\u001b[0;34m(\u001b[0m\u001b[0mvalue\u001b[0m\u001b[0;34m,\u001b[0m \u001b[0m_current_indent_level\u001b[0m\u001b[0;34m)\u001b[0m\u001b[0;34m\u001b[0m\u001b[0;34m\u001b[0m\u001b[0m\n\u001b[0;32m--> 404\u001b[0;31m                 \u001b[0;32myield\u001b[0m \u001b[0;32mfrom\u001b[0m \u001b[0mchunks\u001b[0m\u001b[0;34m\u001b[0m\u001b[0;34m\u001b[0m\u001b[0m\n\u001b[0m\u001b[1;32m    405\u001b[0m         \u001b[0;32mif\u001b[0m \u001b[0mnewline_indent\u001b[0m \u001b[0;32mis\u001b[0m \u001b[0;32mnot\u001b[0m \u001b[0;32mNone\u001b[0m\u001b[0;34m:\u001b[0m\u001b[0;34m\u001b[0m\u001b[0;34m\u001b[0m\u001b[0m\n\u001b[1;32m    406\u001b[0m             \u001b[0m_current_indent_level\u001b[0m \u001b[0;34m-=\u001b[0m \u001b[0;36m1\u001b[0m\u001b[0;34m\u001b[0m\u001b[0;34m\u001b[0m\u001b[0m\n",
      "\u001b[0;32m~/anaconda/lib/python3.6/json/encoder.py\u001b[0m in \u001b[0;36m_iterencode\u001b[0;34m(o, _current_indent_level)\u001b[0m\n\u001b[1;32m    435\u001b[0m                     \u001b[0;32mraise\u001b[0m \u001b[0mValueError\u001b[0m\u001b[0;34m(\u001b[0m\u001b[0;34m\"Circular reference detected\"\u001b[0m\u001b[0;34m)\u001b[0m\u001b[0;34m\u001b[0m\u001b[0;34m\u001b[0m\u001b[0m\n\u001b[1;32m    436\u001b[0m                 \u001b[0mmarkers\u001b[0m\u001b[0;34m[\u001b[0m\u001b[0mmarkerid\u001b[0m\u001b[0;34m]\u001b[0m \u001b[0;34m=\u001b[0m \u001b[0mo\u001b[0m\u001b[0;34m\u001b[0m\u001b[0;34m\u001b[0m\u001b[0m\n\u001b[0;32m--> 437\u001b[0;31m             \u001b[0mo\u001b[0m \u001b[0;34m=\u001b[0m \u001b[0m_default\u001b[0m\u001b[0;34m(\u001b[0m\u001b[0mo\u001b[0m\u001b[0;34m)\u001b[0m\u001b[0;34m\u001b[0m\u001b[0;34m\u001b[0m\u001b[0m\n\u001b[0m\u001b[1;32m    438\u001b[0m             \u001b[0;32myield\u001b[0m \u001b[0;32mfrom\u001b[0m \u001b[0m_iterencode\u001b[0m\u001b[0;34m(\u001b[0m\u001b[0mo\u001b[0m\u001b[0;34m,\u001b[0m \u001b[0m_current_indent_level\u001b[0m\u001b[0;34m)\u001b[0m\u001b[0;34m\u001b[0m\u001b[0;34m\u001b[0m\u001b[0m\n\u001b[1;32m    439\u001b[0m             \u001b[0;32mif\u001b[0m \u001b[0mmarkers\u001b[0m \u001b[0;32mis\u001b[0m \u001b[0;32mnot\u001b[0m \u001b[0;32mNone\u001b[0m\u001b[0;34m:\u001b[0m\u001b[0;34m\u001b[0m\u001b[0;34m\u001b[0m\u001b[0m\n",
      "\u001b[0;32m~/anaconda/lib/python3.6/json/encoder.py\u001b[0m in \u001b[0;36mdefault\u001b[0;34m(self, o)\u001b[0m\n\u001b[1;32m    178\u001b[0m         \"\"\"\n\u001b[1;32m    179\u001b[0m         raise TypeError(\"Object of type '%s' is not JSON serializable\" %\n\u001b[0;32m--> 180\u001b[0;31m                         o.__class__.__name__)\n\u001b[0m\u001b[1;32m    181\u001b[0m \u001b[0;34m\u001b[0m\u001b[0m\n\u001b[1;32m    182\u001b[0m     \u001b[0;32mdef\u001b[0m \u001b[0mencode\u001b[0m\u001b[0;34m(\u001b[0m\u001b[0mself\u001b[0m\u001b[0;34m,\u001b[0m \u001b[0mo\u001b[0m\u001b[0;34m)\u001b[0m\u001b[0;34m:\u001b[0m\u001b[0;34m\u001b[0m\u001b[0;34m\u001b[0m\u001b[0m\n",
      "\u001b[0;31mTypeError\u001b[0m: Object of type 'Decimal' is not JSON serializable"
     ]
    }
   ],
   "source": [
    "import json\n",
    "json.dump(theta_10_2, open('theta_10_2_uniform', 'w'))"
   ]
  },
  {
   "cell_type": "code",
   "execution_count": 88,
   "metadata": {},
   "outputs": [],
   "source": [
    "import simplejson as json\n",
    "json.dump(theta_10_2, open('theta_10_2_uniform', 'w'))\n",
    "#large file, 565mb dict"
   ]
  },
  {
   "cell_type": "code",
   "execution_count": 90,
   "metadata": {},
   "outputs": [
    {
     "data": {
      "image/png": "[encoded data removed]",
      "text/plain": [
       "<matplotlib.figure.Figure at 0x2471f09e8>"
      ]
     },
     "metadata": {
      "needs_background": "light"
     },
     "output_type": "display_data"
    }
   ],
   "source": [
    "aer_ibm2 = plt.figure(figsize = (10, 5))\n",
    "plt.plot(iteration_2, AER_2)\n",
    "plt.xlabel('Iteration')\n",
    "plt.ylabel('AER')\n",
    "plt.show()\n",
    "aer_ibm2.savefig('./result/aer-IBM2.eps')"
   ]
  },
  {
   "cell_type": "code",
   "execution_count": 91,
   "metadata": {},
   "outputs": [
    {
     "data": {
      "image/png": "[encoded data removed]",
      "text/plain": [
       "<matplotlib.figure.Figure at 0x270e017b8>"
      ]
     },
     "metadata": {
      "needs_background": "light"
     },
     "output_type": "display_data"
    }
   ],
   "source": [
    "loss_ibm2 = plt.figure(figsize = (10, 5))\n",
    "plt.plot(iteration_2, t_log_2)\n",
    "plt.xlabel('Iteration')\n",
    "plt.ylabel('Log-likelihood')\n",
    "plt.show()\n",
    "loss_ibm2.savefig('./result/loglikelihood-IBM2.eps')"
   ]
  },
  {
   "cell_type": "code",
   "execution_count": null,
   "metadata": {},
   "outputs": [],
   "source": []
  }
 ],
 "metadata": {
  "kernelspec": {
   "display_name": "Python 3",
   "language": "python",
   "name": "python3"
  },
  "language_info": {
   "codemirror_mode": {
    "name": "ipython",
    "version": 3
   },
   "file_extension": ".py",
   "mimetype": "text/x-python",
   "name": "python",
   "nbconvert_exporter": "python",
   "pygments_lexer": "ipython3",
   "version": "3.6.8"
  }
 },
 "nbformat": 4,
 "nbformat_minor": 2
}
