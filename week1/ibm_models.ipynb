{
 "cells": [
  {
   "cell_type": "markdown",
   "metadata": {},
   "source": [
    "# NLP2 project 1: Lexical Alignment\n",
    "###  Kai Liang, Yijie Zhang, Billy Chan"
   ]
  },
  {
   "cell_type": "code",
   "execution_count": 1,
   "metadata": {},
   "outputs": [],
   "source": [
    "# -*- coding:utf-8 -*-\n",
    "import sys\n",
    "import os\n",
    "import numpy as np\n",
    "import operator\n",
    "import aer\n",
    "from collections import *\n",
    "from decimal import *\n",
    "from aer import read_naacl_alignments\n",
    "import matplotlib.pyplot as plt"
   ]
  },
  {
   "cell_type": "markdown",
   "metadata": {},
   "source": [
    "## * Read Data"
   ]
  },
  {
   "cell_type": "code",
   "execution_count": 2,
   "metadata": {},
   "outputs": [
    {
     "name": "stdout",
     "output_type": "stream",
     "text": [
      "Number of English sentences in training set: 231164\n",
      "Number of French sentences in training set: 231164\n",
      "Number of English sentences in validation set: 37\n",
      "Number of French sentences in validation set: 37\n",
      "Number of English sentences in testing set: 447\n",
      "Number of French sentences in testing set: 447\n"
     ]
    }
   ],
   "source": [
    "# reading training data\n",
    "en_train = open('./training/hansards.36.2.e', mode='r', encoding='utf-8').read().splitlines() # utf-8 encoding\n",
    "fr_train = open('./training/hansards.36.2.f', mode='r', encoding='utf-8').read().splitlines() # utf-8 encoding\n",
    "\n",
    "# reading validation data\n",
    "en_val = open('./validation/dev.e', mode='r', encoding='utf-8').read().splitlines() # utf-8 encoding\n",
    "fr_val = open('./validation/dev.f', mode='r', encoding='utf-8').read().splitlines() # utf-8 encoding\n",
    "\n",
    "# reading test data\n",
    "en_test = open('./testing/test/test.e', mode='r', encoding='utf-8').read().splitlines() # utf-8 encoding\n",
    "fr_test = open('./testing/test/test.f', mode='r', encoding='utf-8').read().splitlines() # utf-8 encoding\n",
    "\n",
    "# path of gold standrad of validation data\n",
    "path_val = 'validation/dev.wa.nonullalign'\n",
    "\n",
    "# path of gold standrad of testing data\n",
    "path_test = 'testing/answers/test.wa.nonullalign'\n",
    "\n",
    "print('Number of English sentences in training set:', len(en_train))\n",
    "print('Number of French sentences in training set:', len(fr_train))\n",
    "print('Number of English sentences in validation set:', len(en_val))\n",
    "print('Number of French sentences in validation set:', len(fr_val))\n",
    "print('Number of English sentences in testing set:', len(en_test))\n",
    "print('Number of French sentences in testing set:', len(fr_test))"
   ]
  },
  {
   "cell_type": "code",
   "execution_count": 3,
   "metadata": {},
   "outputs": [
    {
     "name": "stdout",
     "output_type": "stream",
     "text": [
      "The first English sentence: 36 th Parliament , 2 nd Session \n"
     ]
    }
   ],
   "source": [
    "print('The first English sentence:', en_train[0])"
   ]
  },
  {
   "cell_type": "code",
   "execution_count": 4,
   "metadata": {},
   "outputs": [
    {
     "name": "stdout",
     "output_type": "stream",
     "text": [
      "The first French sentence: 36 e Législature , 2 ième Session \n"
     ]
    }
   ],
   "source": [
    "print('The first French sentence:', fr_train[0])"
   ]
  },
  {
   "cell_type": "code",
   "execution_count": 5,
   "metadata": {},
   "outputs": [],
   "source": [
    "# theta = np.load('theta_0.npy').item()\n",
    "# theta_10 = np.load('theta_10.npy').item()\n",
    "# count_f_e_0 = np.load('count_f_e_0.npy').item()\n",
    "# count_e_0 = np.load('count_e_0.npy').item()\n",
    "\n",
    "# '''\n",
    "# np.save('theta_0.npy', theta_0) \n",
    "# np.save('count_f_e_0.npy', count_f_e) \n",
    "# np.save('count_e_0.npy', count_e)\n",
    "# np.save('theta_10.npy', theta) \n",
    "# '''"
   ]
  },
  {
   "cell_type": "markdown",
   "metadata": {},
   "source": [
    "## * Data Preprocessing"
   ]
  },
  {
   "cell_type": "code",
   "execution_count": 6,
   "metadata": {},
   "outputs": [],
   "source": [
    "# split sentence into words\n",
    "def preprocess(s):\n",
    "    return s.split()"
   ]
  },
  {
   "cell_type": "code",
   "execution_count": 7,
   "metadata": {},
   "outputs": [],
   "source": [
    "# preprocess training data, validation data and testing data\n",
    "for i in range(len(en_train)):\n",
    "    en_train[i] = preprocess(en_train[i])\n",
    "    en_train[i] = ['NULLINDICATOR'] + en_train[i]\n",
    "    fr_train[i] = preprocess(fr_train[i])\n",
    "for i in range(len(en_val)):\n",
    "    en_val[i] = preprocess(en_val[i])\n",
    "    fr_val[i] = preprocess(fr_val[i])\n",
    "for i in range(len(en_test)):\n",
    "    en_test[i] = preprocess(en_test[i])\n",
    "    fr_test[i] = preprocess(fr_test[i])"
   ]
  },
  {
   "cell_type": "code",
   "execution_count": 8,
   "metadata": {},
   "outputs": [
    {
     "name": "stdout",
     "output_type": "stream",
     "text": [
      "Proccessed training example sentence: ['36', 'e', 'Législature', ',', '2', 'ième', 'Session']\n",
      "Proccessed validation example sentence: ['chacun', 'en', 'lui', '-', 'même', 'est', 'très', 'complexe', 'et', 'le', 'lien', 'entre', 'les', 'deux', 'le', 'est', 'encore', 'davantage', 'de', 'sorte', 'que', 'pour', 'beaucoup', 'la', 'situation', 'présente', 'est', 'confuse', '.']\n",
      "Proccessed testing example sentence: ['2', '.']\n"
     ]
    }
   ],
   "source": [
    "print('Proccessed training example sentence:', fr_train[0])\n",
    "print('Proccessed validation example sentence:', fr_val[0])\n",
    "print('Proccessed testing example sentence:', fr_test[0])"
   ]
  },
  {
   "cell_type": "markdown",
   "metadata": {},
   "source": [
    "## * Log-likelihood Computation"
   ]
  },
  {
   "cell_type": "code",
   "execution_count": 9,
   "metadata": {},
   "outputs": [],
   "source": [
    "def get_loglikelihood(en_train, fr_train, theta):\n",
    "    N = len(en_train)\n",
    "    loglikelihood_total = 0\n",
    "    for n in range(N): # for all pairs of sentences\n",
    "        \n",
    "        cleaned_en_n = en_train[n]\n",
    "        len_en_n = len(cleaned_en_n)\n",
    "        \n",
    "        cleaned_fr_n = fr_train[n]\n",
    "        len_fr_n = len(cleaned_fr_n)\n",
    "        \n",
    "        loglikelihood_n = np.log(len_fr_n/len_en_n) + len_fr_n * np.log(1/len_en_n)\n",
    "        for fr_word in cleaned_fr_n: # every french word\n",
    "            # find the english word that maximize p(fr/en) \n",
    "            max_p_fe = 0\n",
    "            for en_word in cleaned_en_n:\n",
    "                p_fe = theta[en_word][fr_word]\n",
    "                if p_fe > max_p_fe:\n",
    "                    max_p_fe = p_fe\n",
    "            \n",
    "            loglikelihood_n += np.log(float(max_p_fe))\n",
    "        loglikelihood_total += loglikelihood_n\n",
    "    return loglikelihood_total"
   ]
  },
  {
   "cell_type": "markdown",
   "metadata": {},
   "source": [
    "## * Compute AER"
   ]
  },
  {
   "cell_type": "code",
   "execution_count": 10,
   "metadata": {},
   "outputs": [],
   "source": [
    "def compute_aer(en_data, fr_data, path, theta):\n",
    "    # compute AER score for the given data\n",
    "    predictions = []\n",
    "    for s in range(len(en_data)):\n",
    "        alignments=[]\n",
    "        l_e = len(en_data[s])\n",
    "        l_f = len(fr_data[s])\n",
    "        for i in range(l_f):\n",
    "            vals = []\n",
    "            for j in range(l_e):\n",
    "                vals.append(theta[en_data[s][j]][fr_data[s][i]])\n",
    "            max_idx = vals.index(max(vals))\n",
    "            alignments.append((max_idx+1, i+1))\n",
    "        predictions.append(set(alignments))\n",
    "    gold_sets = read_naacl_alignments(path)\n",
    "    metric = aer.AERSufficientStatistics()\n",
    "    for gold, pred in zip(gold_sets, predictions):\n",
    "        metric.update(sure=gold[0], probable=gold[1], predicted=pred)\n",
    "    # AER\n",
    "    return metric.aer(), predictions  "
   ]
  },
  {
   "cell_type": "markdown",
   "metadata": {},
   "source": [
    "## * Export NAACL"
   ]
  },
  {
   "cell_type": "code",
   "execution_count": 11,
   "metadata": {},
   "outputs": [],
   "source": [
    "def export_naacl(predictions, filename):\n",
    "    with open('{}.naacl'.format(filename), 'w') as file:\n",
    "        for index, sen in enumerate(predictions):\n",
    "            for align in sen:\n",
    "                file.write('{} {} {} S\\n'.format(index+1, align[0], align[1]))\n",
    "    file.close()"
   ]
  },
  {
   "cell_type": "markdown",
   "metadata": {},
   "source": [
    "## * IBM1 - Initialize Parameters"
   ]
  },
  {
   "cell_type": "code",
   "execution_count": 12,
   "metadata": {},
   "outputs": [],
   "source": [
    "def init_theta(en_train, fr_train):\n",
    "    # initialize theta\n",
    "    theta = defaultdict(lambda: defaultdict(lambda: Decimal(0)))\n",
    "    N = len(en_train)\n",
    "    for n in range(N):\n",
    "        cleaned_en_n = en_train[n]\n",
    "        cleaned_fr_n = fr_train[n]     \n",
    "        for j_en_word in cleaned_en_n:\n",
    "            for i_fr_word in cleaned_fr_n:\n",
    "                theta[j_en_word][i_fr_word] = 0      \n",
    "    for en_word in theta:\n",
    "        count = len(theta[en_word])\n",
    "        for fr_word in theta[en_word]:\n",
    "            theta[en_word][fr_word] = Decimal(1 / count)\n",
    "    return theta"
   ]
  },
  {
   "cell_type": "code",
   "execution_count": 13,
   "metadata": {
    "scrolled": true
   },
   "outputs": [
    {
     "name": "stdout",
     "output_type": "stream",
     "text": [
      "Number of English words in the training set: 36636\n"
     ]
    }
   ],
   "source": [
    "theta = init_theta(en_train, fr_train)\n",
    "print('Number of English words in the training set:', len(theta))"
   ]
  },
  {
   "cell_type": "markdown",
   "metadata": {},
   "source": [
    "## * IBM1 - Update via EM"
   ]
  },
  {
   "cell_type": "code",
   "execution_count": 14,
   "metadata": {},
   "outputs": [],
   "source": [
    "def train_EM(en_train, fr_train, theta, en_val, fr_val, en_test, fr_test, path, K):\n",
    "    N = len(en_train)\n",
    "    AER = []\n",
    "    iteration = []\n",
    "    t_log = []\n",
    "    for k in range(K):\n",
    "        iteration.append(k+1)\n",
    "        print('Iteration {}:'.format(k))\n",
    "        count_f_e = defaultdict(lambda: Decimal(0))\n",
    "        count_e = defaultdict(lambda: Decimal(0))\n",
    "        for n in range(N):\n",
    "            cleaned_en_n = en_train[n]\n",
    "            cleaned_fr_n = fr_train[n]\n",
    "            for fr in cleaned_fr_n:\n",
    "                Z = 0\n",
    "                for en in cleaned_en_n:\n",
    "                    Z += theta[en][fr]\n",
    "                for en in cleaned_en_n:\n",
    "                    c = theta[en][fr] / Z\n",
    "                    count_f_e[(fr, en)] += c\n",
    "                    count_e[en] += c\n",
    "        for (f, e) in count_f_e:\n",
    "            theta[e][f] = count_f_e[(f, e)] / count_e[e]\n",
    "        # compute AER on the validation set\n",
    "        aer, _ = compute_aer(en_val, fr_val, path, theta)\n",
    "        print('Validation AER:', aer)\n",
    "        AER.append(aer)\n",
    "        \n",
    "        log_likelihood = get_loglikelihood(en_train, fr_train, theta)\n",
    "        t_log.append(log_likelihood)\n",
    "        print(\"Training log-likelihood:\", log_likelihood)\n",
    "#     np.save(\"theta_10.npy\", theta)\n",
    "    return theta, AER, t_log, iteration"
   ]
  },
  {
   "cell_type": "code",
   "execution_count": 15,
   "metadata": {
    "scrolled": false
   },
   "outputs": [
    {
     "name": "stdout",
     "output_type": "stream",
     "text": [
      "Iteration 0:\n",
      "Validation AER: 0.3748819641170916\n",
      "Training log-likelihood: -30865714.014653254\n",
      "Iteration 1:\n",
      "Validation AER: 0.33994334277620397\n",
      "Training log-likelihood: -26202135.770782452\n",
      "Iteration 2:\n",
      "Validation AER: 0.3305004721435316\n",
      "Training log-likelihood: -24288806.982518796\n",
      "Iteration 3:\n",
      "Validation AER: 0.33144475920679883\n",
      "Training log-likelihood: -23377239.632227864\n",
      "Iteration 4:\n",
      "Validation AER: 0.3305004721435316\n",
      "Training log-likelihood: -22847765.255030096\n",
      "Iteration 5:\n",
      "Validation AER: 0.3295561850802644\n",
      "Training log-likelihood: -22505412.76867087\n",
      "Iteration 6:\n",
      "Validation AER: 0.32672332389046266\n",
      "Training log-likelihood: -22268720.140491456\n",
      "Iteration 7:\n",
      "Validation AER: 0.32766761095373\n",
      "Training log-likelihood: -22097046.26241591\n",
      "Iteration 8:\n",
      "Validation AER: 0.3286118980169972\n",
      "Training log-likelihood: -21968133.330750603\n",
      "Iteration 9:\n",
      "Validation AER: 0.32483474976392823\n",
      "Training log-likelihood: -21868134.508379217\n"
     ]
    }
   ],
   "source": [
    "theta_10, AER, t_log, iteration = train_EM(en_train, fr_train, theta, en_val, fr_val, en_test, fr_test, path_val, K=10)"
   ]
  },
  {
   "cell_type": "markdown",
   "metadata": {},
   "source": [
    "## * Testing"
   ]
  },
  {
   "cell_type": "code",
   "execution_count": 16,
   "metadata": {
    "scrolled": true
   },
   "outputs": [
    {
     "name": "stdout",
     "output_type": "stream",
     "text": [
      "Test AER: 0.296465802186626\n",
      "File saved successfully.\n"
     ]
    }
   ],
   "source": [
    "aer_test, test_alignment = compute_aer(en_test, fr_test, path_test, theta_10)\n",
    "print('Test AER:', aer_test)\n",
    "export_naacl(test_alignment, 'result/ibm1.mle')\n",
    "print('File saved successfully.')"
   ]
  },
  {
   "cell_type": "markdown",
   "metadata": {},
   "source": [
    "## * Plotting"
   ]
  },
  {
   "cell_type": "code",
   "execution_count": 56,
   "metadata": {},
   "outputs": [
    {
     "data": {
      "image/png": "[encoded data removed]",
      "text/plain": [
       "<Figure size 432x216 with 1 Axes>"
      ]
     },
     "metadata": {
      "needs_background": "light"
     },
     "output_type": "display_data"
    }
   ],
   "source": [
    "aer_ibm1 = plt.figure(figsize = (6, 3))\n",
    "plt.plot(iteration, AER)\n",
    "plt.xlabel('Iteration')\n",
    "plt.ylabel('AER')\n",
    "plt.show()\n",
    "aer_ibm1.savefig('./result/aer-IBM1.eps')"
   ]
  },
  {
   "cell_type": "code",
   "execution_count": 57,
   "metadata": {},
   "outputs": [
    {
     "data": {
      "image/png": "[encoded data removed]",
      "text/plain": [
       "<Figure size 432x216 with 1 Axes>"
      ]
     },
     "metadata": {
      "needs_background": "light"
     },
     "output_type": "display_data"
    }
   ],
   "source": [
    "loss_ibm1 = plt.figure(figsize = (6, 3))\n",
    "plt.plot(iteration, t_log)\n",
    "plt.xlabel('Iteration')\n",
    "plt.ylabel('Log-likelihood')\n",
    "plt.show()\n",
    "loss_ibm1.savefig('./result/loglikelihood-IBM1.eps')"
   ]
  },
  {
   "cell_type": "markdown",
   "metadata": {},
   "source": [
    "## * IBM2 - Initialize Jump Functions"
   ]
  },
  {
   "cell_type": "code",
   "execution_count": 24,
   "metadata": {},
   "outputs": [],
   "source": [
    "import random\n",
    "#defined some preparatory functions \n",
    "\n",
    "# function for defining the distance of jumping \n",
    "# e.g. aligning from 1st of fr sent to the last word of en sent is the max jump (jump = k) to the right\n",
    "# e.g. aligning the middle word of fr sent to the middle word of en sent means jump = 0\n",
    "def jump(i, j, I, J): #fr position, en pos, len(fr_sent_), len(en_sent_)\n",
    "    return i-np.floor(I * j / J)\n",
    "\n",
    "# given set of english sentence (in order to get the value of max jump) \n",
    "# return the theta of jumps (the prob of each jump)\n",
    "def theta_jump_init(en_sents, theta_jump=None, seed=None):\n",
    "    # first get the range of the jumps -k, -k+1, ...-1, 0, 1,...k-1, k, \n",
    "    # where k is the length of the longest en_sent \n",
    "    max_jump_value = max(len(x) for x in en_sents) \n",
    "    \n",
    "    # as we have -k, -k+1,...0 ...k-1, k, ie 2k+1 categories of jumps\n",
    "    if theta_jump == None:\n",
    "        prob = Decimal(1 / (max_jump_value * 2 + 1 ))\n",
    "        # theta_jump = {k:uniform_prob for k in range(-max_jump_value, max_jump_value+1)} # from -k to k\n",
    "        # use default dict instead\n",
    "        theta_jump = defaultdict(lambda: prob) # from -k to k\n",
    "    else:\n",
    "        random.seed(seed)\n",
    "        theta_jump = defaultdict(lambda: Decimal(random.random()))\n",
    "    \n",
    "    return theta_jump, max_jump_value"
   ]
  },
  {
   "cell_type": "markdown",
   "metadata": {},
   "source": [
    "## * IBM2 - Update via EM"
   ]
  },
  {
   "cell_type": "code",
   "execution_count": 20,
   "metadata": {},
   "outputs": [],
   "source": [
    "def train_EM_ibm2(en_train, fr_train, theta, en_val, fr_val, en_test, fr_test, path, K, theta_jump=None, seed=None):\n",
    "    N = len(en_train)\n",
    "    AER = []\n",
    "    iteration = []\n",
    "    t_log = []\n",
    "    \n",
    "    #init jump_theta if not given:\n",
    "    if theta_jump==None:\n",
    "        theta_jump, max_jump_value = theta_jump_init(en_train) # a default dict for all possible jump distance\n",
    "    else:\n",
    "        theta_jump, max_jump_value = theta_jump_init(en_train, theta_jump, seed) # a default dict for all possible jump distance\n",
    "        \n",
    "    for k in range(K):\n",
    "        iteration.append(k+1)\n",
    "        print('Iteration {}:'.format(k))\n",
    "        count_f_e = defaultdict(lambda: Decimal(0))\n",
    "        count_e = defaultdict(lambda: Decimal(0))\n",
    "        count_jump = defaultdict(lambda: Decimal(0)) # +count prob for each jump distance\n",
    "        count_jump_total = 0 # total prob jump distance for normalizing \n",
    "        \n",
    "        for n in range(N):\n",
    "            cleaned_en_n = en_train[n]\n",
    "            cleaned_fr_n = fr_train[n]\n",
    "            \n",
    "            J = len(cleaned_en_n) #en_sent_len\n",
    "            I = len(cleaned_fr_n) #fr_sent_len\n",
    "            \n",
    "            for i, fr in enumerate(cleaned_fr_n):\n",
    "                Z = 0\n",
    "                \n",
    "                for j, en in enumerate(cleaned_en_n):\n",
    "                    jump_distance = jump(i,j,I,J) # for this i, j alignment \n",
    "                    \n",
    "                    Z += theta[en][fr] * theta_jump[jump_distance]\n",
    "                    \n",
    "                for j, en in enumerate(cleaned_en_n):\n",
    "                    jump_distance = jump(i,j,I,J) # for this i, j alignment \n",
    "                    \n",
    "                    c = theta[en][fr] * theta_jump[jump_distance] / Z\n",
    "                    count_f_e[(fr, en)] += c\n",
    "                    count_e[en] += c\n",
    "                    count_jump[jump_distance] += c\n",
    "                    count_jump_total += c\n",
    "        \n",
    "        # M step for p(f|e)\n",
    "        for (f, e) in count_f_e:\n",
    "            theta[e][f] = count_f_e[(f, e)] / count_e[e]\n",
    "            \n",
    "        # M step for p(a)\n",
    "        for x in range(-max_jump_value, max_jump_value+1):\n",
    "            theta_jump[x] = count_jump[x] / count_jump_total\n",
    "        \n",
    "        # compute AER on the validation set\n",
    "        aer, _ = compute_aer(en_val, fr_val, path, theta)\n",
    "        print('Validation AER:', aer)\n",
    "        AER.append(aer)\n",
    "        \n",
    "        log_likelihood = get_loglikelihood(en_train, fr_train, theta)\n",
    "        t_log.append(log_likelihood)\n",
    "        print(\"Training log-likelihood:\", log_likelihood)\n",
    "#     np.save(\"theta_10.npy\", theta)\n",
    "    return theta, AER, t_log, iteration"
   ]
  },
  {
   "cell_type": "markdown",
   "metadata": {},
   "source": [
    "## * Uniform Initialization"
   ]
  },
  {
   "cell_type": "code",
   "execution_count": 21,
   "metadata": {
    "scrolled": false
   },
   "outputs": [
    {
     "name": "stdout",
     "output_type": "stream",
     "text": [
      "Iteration 0:\n",
      "Validation AER: 0.3748819641170916\n",
      "Training log-likelihood: -30865714.014653254\n",
      "Iteration 1:\n",
      "Validation AER: 0.32483474976392823\n",
      "Training log-likelihood: -25392989.733201735\n",
      "Iteration 2:\n",
      "Validation AER: 0.3163361661945231\n",
      "Training log-likelihood: -23221052.81175796\n",
      "Iteration 3:\n",
      "Validation AER: 0.3050047214353163\n",
      "Training log-likelihood: -22453276.98639589\n",
      "Iteration 4:\n",
      "Validation AER: 0.30594900849858353\n",
      "Training log-likelihood: -22183652.718811817\n",
      "Iteration 5:\n",
      "Validation AER: 0.3097261567516525\n",
      "Training log-likelihood: -22080479.198292907\n",
      "Iteration 6:\n",
      "Validation AER: 0.31255901794145424\n",
      "Training log-likelihood: -22034837.053504445\n",
      "Iteration 7:\n",
      "Validation AER: 0.3106704438149197\n",
      "Training log-likelihood: -22012783.328787293\n",
      "Iteration 8:\n",
      "Validation AER: 0.3097261567516525\n",
      "Training log-likelihood: -22001563.89572537\n",
      "Iteration 9:\n",
      "Validation AER: 0.3106704438149197\n",
      "Training log-likelihood: -21995901.84566919\n"
     ]
    }
   ],
   "source": [
    "theta_u = init_theta(en_train, fr_train)\n",
    "theta_10_u, AER_u, t_log_u, iteration_u = train_EM_ibm2(en_train, fr_train, theta_u, en_val, fr_val, en_test, fr_test, path_val, K=10)"
   ]
  },
  {
   "cell_type": "markdown",
   "metadata": {},
   "source": [
    "## * Testing"
   ]
  },
  {
   "cell_type": "code",
   "execution_count": 46,
   "metadata": {},
   "outputs": [
    {
     "name": "stdout",
     "output_type": "stream",
     "text": [
      "Test AER: 0.2744300364437664\n",
      "File saved successfully.\n"
     ]
    }
   ],
   "source": [
    "aer_test_u, test_alignment_u = compute_aer(en_test, fr_test, path_test, theta_10_u)\n",
    "print('Test AER:', aer_test_u)\n",
    "export_naacl(test_alignment_u, 'result/ibm2.mle')\n",
    "print('File saved successfully.')"
   ]
  },
  {
   "cell_type": "markdown",
   "metadata": {},
   "source": [
    "## * Plotting"
   ]
  },
  {
   "cell_type": "code",
   "execution_count": 58,
   "metadata": {
    "scrolled": true
   },
   "outputs": [
    {
     "data": {
      "image/png": "[encoded data removed]",
      "text/plain": [
       "<Figure size 432x216 with 1 Axes>"
      ]
     },
     "metadata": {
      "needs_background": "light"
     },
     "output_type": "display_data"
    }
   ],
   "source": [
    "aer_ibm_u = plt.figure(figsize = (6, 3))\n",
    "plt.plot(iteration_u, AER_u)\n",
    "plt.xlabel('Iteration')\n",
    "plt.ylabel('AER')\n",
    "plt.show()\n",
    "aer_ibm_u.savefig('./result/aer-IBM2-uniform.eps')"
   ]
  },
  {
   "cell_type": "code",
   "execution_count": 59,
   "metadata": {},
   "outputs": [
    {
     "data": {
      "image/png": "[encoded data removed]",
      "text/plain": [
       "<Figure size 432x216 with 1 Axes>"
      ]
     },
     "metadata": {
      "needs_background": "light"
     },
     "output_type": "display_data"
    }
   ],
   "source": [
    "loss_ibm2_u = plt.figure(figsize = (6, 3))\n",
    "plt.plot(iteration_u, t_log_u)\n",
    "plt.xlabel('Iteration')\n",
    "plt.ylabel('Log-likelihood')\n",
    "plt.show()\n",
    "loss_ibm2_u.savefig('./result/loglikelihood-IBM2-uniform.eps')"
   ]
  },
  {
   "cell_type": "markdown",
   "metadata": {},
   "source": [
    "## * Random Initialization (seed 1)"
   ]
  },
  {
   "cell_type": "code",
   "execution_count": 28,
   "metadata": {},
   "outputs": [
    {
     "name": "stdout",
     "output_type": "stream",
     "text": [
      "Iteration 0:\n",
      "Validation AER: 0.7592067988668555\n",
      "Training log-likelihood: -30580665.030714907\n",
      "Iteration 1:\n",
      "Validation AER: 0.6751652502360718\n",
      "Training log-likelihood: -25499542.351740446\n",
      "Iteration 2:\n",
      "Validation AER: 0.5797922568460812\n",
      "Training log-likelihood: -23509913.36306893\n",
      "Iteration 3:\n",
      "Validation AER: 0.5571293673276676\n",
      "Training log-likelihood: -22546932.103784546\n",
      "Iteration 4:\n",
      "Validation AER: 0.5495750708215297\n",
      "Training log-likelihood: -22198991.755411018\n",
      "Iteration 5:\n",
      "Validation AER: 0.550519357884797\n",
      "Training log-likelihood: -22076031.814332575\n",
      "Iteration 6:\n",
      "Validation AER: 0.5495750708215297\n",
      "Training log-likelihood: -22023712.77427739\n",
      "Iteration 7:\n",
      "Validation AER: 0.5486307837582625\n",
      "Training log-likelihood: -21997708.48027206\n",
      "Iteration 8:\n",
      "Validation AER: 0.5486307837582625\n",
      "Training log-likelihood: -21985714.974133067\n",
      "Iteration 9:\n",
      "Validation AER: 0.5495750708215297\n",
      "Training log-likelihood: -21980978.403356317\n"
     ]
    }
   ],
   "source": [
    "import random\n",
    "random.seed(1)\n",
    "theta_r1 = defaultdict(lambda: defaultdict(lambda: Decimal(random.random())))\n",
    "theta_10_r1, AER_r1, t_log_r1, iteration_r1 = train_EM_ibm2(en_train, fr_train, theta_r1, en_val, fr_val, en_test, fr_test, path_val, K=10, theta_jump='random', seed=1)"
   ]
  },
  {
   "cell_type": "markdown",
   "metadata": {},
   "source": [
    "## * Testing"
   ]
  },
  {
   "cell_type": "code",
   "execution_count": 29,
   "metadata": {},
   "outputs": [
    {
     "name": "stdout",
     "output_type": "stream",
     "text": [
      "Test AER: 0.5214001186541233\n"
     ]
    }
   ],
   "source": [
    "aer_test_r1, test_alignment_r1 = compute_aer(en_test, fr_test, path_test, theta_10_r1)\n",
    "print('Test AER:', aer_test_r1)"
   ]
  },
  {
   "cell_type": "markdown",
   "metadata": {},
   "source": [
    "## * Plotting"
   ]
  },
  {
   "cell_type": "code",
   "execution_count": 60,
   "metadata": {},
   "outputs": [
    {
     "data": {
      "image/png": "[encoded data removed]",
      "text/plain": [
       "<Figure size 432x216 with 1 Axes>"
      ]
     },
     "metadata": {
      "needs_background": "light"
     },
     "output_type": "display_data"
    }
   ],
   "source": [
    "aer_ibm_r1 = plt.figure(figsize = (6, 3))\n",
    "plt.plot(iteration_r1, AER_r1)\n",
    "plt.xlabel('Iteration')\n",
    "plt.ylabel('AER')\n",
    "plt.show()\n",
    "aer_ibm_r1.savefig('./result/aer-IBM2-random1.eps')"
   ]
  },
  {
   "cell_type": "code",
   "execution_count": 61,
   "metadata": {},
   "outputs": [
    {
     "data": {
      "image/png": "[encoded data removed]",
      "text/plain": [
       "<Figure size 432x216 with 1 Axes>"
      ]
     },
     "metadata": {
      "needs_background": "light"
     },
     "output_type": "display_data"
    }
   ],
   "source": [
    "loss_ibm2_r1 = plt.figure(figsize = (6, 3))\n",
    "plt.plot(iteration_r1, t_log_r1)\n",
    "plt.xlabel('Iteration')\n",
    "plt.ylabel('Log-likelihood')\n",
    "plt.show()\n",
    "loss_ibm2_r1.savefig('./result/loglikelihood-IBM2-random1.eps')"
   ]
  },
  {
   "cell_type": "markdown",
   "metadata": {},
   "source": [
    "## * Random Initialization (seed 2)"
   ]
  },
  {
   "cell_type": "code",
   "execution_count": 32,
   "metadata": {},
   "outputs": [
    {
     "name": "stdout",
     "output_type": "stream",
     "text": [
      "Iteration 0:\n",
      "Validation AER: 0.7837582625118036\n",
      "Training log-likelihood: -30608848.50695148\n",
      "Iteration 1:\n",
      "Validation AER: 0.6326723323890462\n",
      "Training log-likelihood: -25541611.65748511\n",
      "Iteration 2:\n",
      "Validation AER: 0.5835694050991501\n",
      "Training log-likelihood: -23417844.933485888\n",
      "Iteration 3:\n",
      "Validation AER: 0.5609065155807366\n",
      "Training log-likelihood: -22619428.51848908\n",
      "Iteration 4:\n",
      "Validation AER: 0.5609065155807366\n",
      "Training log-likelihood: -22318966.217202254\n",
      "Iteration 5:\n",
      "Validation AER: 0.5580736543909348\n",
      "Training log-likelihood: -22189347.81357564\n",
      "Iteration 6:\n",
      "Validation AER: 0.5609065155807366\n",
      "Training log-likelihood: -22125263.240755036\n",
      "Iteration 7:\n",
      "Validation AER: 0.5618508026440038\n",
      "Training log-likelihood: -22087295.321857262\n",
      "Iteration 8:\n",
      "Validation AER: 0.5609065155807366\n",
      "Training log-likelihood: -22064623.905807447\n",
      "Iteration 9:\n",
      "Validation AER: 0.559017941454202\n",
      "Training log-likelihood: -22050532.17996409\n"
     ]
    }
   ],
   "source": [
    "import random\n",
    "random.seed(19)\n",
    "theta_r2 = defaultdict(lambda: defaultdict(lambda: Decimal(random.random())))\n",
    "theta_10_r2, AER_r2, t_log_r2, iteration_r2 = train_EM_ibm2(en_train, fr_train, theta_r2, en_val, fr_val, en_test, fr_test, path_val, K=10, theta_jump='random', seed=19)"
   ]
  },
  {
   "cell_type": "markdown",
   "metadata": {},
   "source": [
    "## * Testing"
   ]
  },
  {
   "cell_type": "code",
   "execution_count": 33,
   "metadata": {},
   "outputs": [
    {
     "name": "stdout",
     "output_type": "stream",
     "text": [
      "Test AER: 0.5217391304347826\n"
     ]
    }
   ],
   "source": [
    "aer_test_r2, test_alignment_r2 = compute_aer(en_test, fr_test, path_test, theta_10_r2)\n",
    "print('Test AER:', aer_test_r2)"
   ]
  },
  {
   "cell_type": "markdown",
   "metadata": {},
   "source": [
    "## * Plotting"
   ]
  },
  {
   "cell_type": "code",
   "execution_count": 62,
   "metadata": {},
   "outputs": [
    {
     "data": {
      "image/png": "[encoded data removed]",
      "text/plain": [
       "<Figure size 432x216 with 1 Axes>"
      ]
     },
     "metadata": {
      "needs_background": "light"
     },
     "output_type": "display_data"
    }
   ],
   "source": [
    "aer_ibm_r2 = plt.figure(figsize = (6, 3))\n",
    "plt.plot(iteration_r2, AER_r2)\n",
    "plt.xlabel('Iteration')\n",
    "plt.ylabel('AER')\n",
    "plt.show()\n",
    "aer_ibm_r2.savefig('./result/aer-IBM2-random2.eps')"
   ]
  },
  {
   "cell_type": "code",
   "execution_count": 63,
   "metadata": {},
   "outputs": [
    {
     "data": {
      "image/png": "[encoded data removed]",
      "text/plain": [
       "<Figure size 432x216 with 1 Axes>"
      ]
     },
     "metadata": {
      "needs_background": "light"
     },
     "output_type": "display_data"
    }
   ],
   "source": [
    "loss_ibm2_r2 = plt.figure(figsize = (6, 3))\n",
    "plt.plot(iteration_r2, t_log_r2)\n",
    "plt.xlabel('Iteration')\n",
    "plt.ylabel('Log-likelihood')\n",
    "plt.show()\n",
    "loss_ibm2_r2.savefig('./result/loglikelihood-IBM2-random2.eps')"
   ]
  },
  {
   "cell_type": "markdown",
   "metadata": {},
   "source": [
    "## * Random Initialization (seed 3)"
   ]
  },
  {
   "cell_type": "code",
   "execution_count": 37,
   "metadata": {},
   "outputs": [
    {
     "name": "stdout",
     "output_type": "stream",
     "text": [
      "Iteration 0:\n",
      "Validation AER: 0.7242681775259678\n",
      "Training log-likelihood: -30533072.56296196\n",
      "Iteration 1:\n",
      "Validation AER: 0.6411709159584513\n",
      "Training log-likelihood: -25470835.291775256\n",
      "Iteration 2:\n",
      "Validation AER: 0.5835694050991501\n",
      "Training log-likelihood: -23403968.87795064\n",
      "Iteration 3:\n",
      "Validation AER: 0.5656279508970727\n",
      "Training log-likelihood: -22662547.61322939\n",
      "Iteration 4:\n",
      "Validation AER: 0.554296506137866\n",
      "Training log-likelihood: -22361886.947338007\n",
      "Iteration 5:\n",
      "Validation AER: 0.554296506137866\n",
      "Training log-likelihood: -22203220.327107668\n",
      "Iteration 6:\n",
      "Validation AER: 0.5495750708215297\n",
      "Training log-likelihood: -22120718.670230467\n",
      "Iteration 7:\n",
      "Validation AER: 0.550519357884797\n",
      "Training log-likelihood: -22075041.121550485\n",
      "Iteration 8:\n",
      "Validation AER: 0.5476864966949953\n",
      "Training log-likelihood: -22048570.87190428\n",
      "Iteration 9:\n",
      "Validation AER: 0.5457979225684608\n",
      "Training log-likelihood: -22032859.619378492\n"
     ]
    }
   ],
   "source": [
    "import random\n",
    "random.seed(38)\n",
    "theta_r3 = defaultdict(lambda: defaultdict(lambda: Decimal(random.random())))\n",
    "theta_10_r3, AER_r3, t_log_r3, iteration_r3 = train_EM_ibm2(en_train, fr_train, theta_r3, en_val, fr_val, en_test, fr_test, path_val, K=10, theta_jump='random', seed=38)"
   ]
  },
  {
   "cell_type": "markdown",
   "metadata": {},
   "source": [
    "## * Testing"
   ]
  },
  {
   "cell_type": "code",
   "execution_count": 38,
   "metadata": {},
   "outputs": [
    {
     "name": "stdout",
     "output_type": "stream",
     "text": [
      "Test AER: 0.5222476481057716\n"
     ]
    }
   ],
   "source": [
    "aer_test_r3, test_alignment_r3 = compute_aer(en_test, fr_test, path_test, theta_10_r3)\n",
    "print('Test AER:', aer_test_r3)"
   ]
  },
  {
   "cell_type": "markdown",
   "metadata": {},
   "source": [
    "## * Plotting"
   ]
  },
  {
   "cell_type": "code",
   "execution_count": 64,
   "metadata": {},
   "outputs": [
    {
     "data": {
      "image/png": "[encoded data removed]",
      "text/plain": [
       "<Figure size 432x216 with 1 Axes>"
      ]
     },
     "metadata": {
      "needs_background": "light"
     },
     "output_type": "display_data"
    }
   ],
   "source": [
    "aer_ibm_r3 = plt.figure(figsize = (6, 3))\n",
    "plt.plot(iteration_r3, AER_r3)\n",
    "plt.xlabel('Iteration')\n",
    "plt.ylabel('AER')\n",
    "plt.show()\n",
    "aer_ibm_r3.savefig('./result/aer-IBM2-random3.eps')"
   ]
  },
  {
   "cell_type": "code",
   "execution_count": 65,
   "metadata": {},
   "outputs": [
    {
     "data": {
      "image/png": "[encoded data removed]",
      "text/plain": [
       "<Figure size 432x216 with 1 Axes>"
      ]
     },
     "metadata": {
      "needs_background": "light"
     },
     "output_type": "display_data"
    }
   ],
   "source": [
    "loss_ibm2_r3 = plt.figure(figsize = (6, 3))\n",
    "plt.plot(iteration_r3, t_log_r3)\n",
    "plt.xlabel('Iteration')\n",
    "plt.ylabel('Log-likelihood')\n",
    "plt.show()\n",
    "loss_ibm2_r3.savefig('./result/loglikelihood-IBM2-random3.eps')"
   ]
  },
  {
   "cell_type": "markdown",
   "metadata": {},
   "source": [
    "## * Initialization with IBM-1 Theta"
   ]
  },
  {
   "cell_type": "code",
   "execution_count": 77,
   "metadata": {},
   "outputs": [
    {
     "name": "stdout",
     "output_type": "stream",
     "text": [
      "Iteration 0:\n",
      "Validation AER: 0.32483474976392823\n",
      "Training log-likelihood: -21788608.163745236\n",
      "Iteration 1:\n",
      "Validation AER: 0.32011331444759206\n",
      "Training log-likelihood: -21568501.686846618\n",
      "Iteration 2:\n",
      "Validation AER: 0.31350330500472146\n",
      "Training log-likelihood: -21527165.37642399\n",
      "Iteration 3:\n",
      "Validation AER: 0.31255901794145424\n",
      "Training log-likelihood: -21515147.727678377\n",
      "Iteration 4:\n",
      "Validation AER: 0.3106704438149197\n",
      "Training log-likelihood: -21507376.22589688\n",
      "Iteration 5:\n",
      "Validation AER: 0.3106704438149197\n",
      "Training log-likelihood: -21499716.069472607\n",
      "Iteration 6:\n",
      "Validation AER: 0.3087818696883853\n",
      "Training log-likelihood: -21499211.3970705\n",
      "Iteration 7:\n",
      "Validation AER: 0.3097261567516525\n",
      "Training log-likelihood: -21495543.694312483\n",
      "Iteration 8:\n",
      "Validation AER: 0.3097261567516525\n",
      "Training log-likelihood: -21488232.805973697\n",
      "Iteration 9:\n",
      "Validation AER: 0.3087818696883853\n",
      "Training log-likelihood: -21488169.025394224\n"
     ]
    }
   ],
   "source": [
    "theta_pt = theta_10\n",
    "theta_10_pt, AER_pt, t_log_pt, iteration_pt = train_EM_ibm2(en_train, fr_train, theta_pt, en_val, fr_val, en_test, fr_test, path_val, K=10)"
   ]
  },
  {
   "cell_type": "markdown",
   "metadata": {},
   "source": [
    "\n",
    "## * Testing"
   ]
  },
  {
   "cell_type": "code",
   "execution_count": 78,
   "metadata": {},
   "outputs": [
    {
     "name": "stdout",
     "output_type": "stream",
     "text": [
      "Test AER: 0.2755318247309094\n"
     ]
    }
   ],
   "source": [
    "aer_test_pt, test_alignment_pt = compute_aer(en_test, fr_test, path_test, theta_10_pt)\n",
    "print('Test AER:', aer_test_pt)"
   ]
  },
  {
   "cell_type": "markdown",
   "metadata": {},
   "source": [
    "## * Plotting"
   ]
  },
  {
   "cell_type": "code",
   "execution_count": 79,
   "metadata": {},
   "outputs": [
    {
     "data": {
      "image/png": "[encoded data removed]",
      "text/plain": [
       "<Figure size 432x216 with 1 Axes>"
      ]
     },
     "metadata": {
      "needs_background": "light"
     },
     "output_type": "display_data"
    }
   ],
   "source": [
    "aer_ibm_pt = plt.figure(figsize = (6, 3))\n",
    "plt.plot(iteration_pt, AER_pt)\n",
    "plt.xlabel('Iteration')\n",
    "plt.ylabel('AER')\n",
    "plt.show()\n",
    "aer_ibm_pt.savefig('./result/aer-IBM2-pretrained.eps')"
   ]
  },
  {
   "cell_type": "code",
   "execution_count": 80,
   "metadata": {
    "scrolled": false
   },
   "outputs": [
    {
     "data": {
      "image/png": "[encoded data removed]",
      "text/plain": [
       "<Figure size 432x216 with 1 Axes>"
      ]
     },
     "metadata": {
      "needs_background": "light"
     },
     "output_type": "display_data"
    }
   ],
   "source": [
    "loss_ibm2_pt = plt.figure(figsize = (6, 3))\n",
    "plt.plot(iteration_pt, t_log_pt)\n",
    "plt.xlabel('Iteration')\n",
    "plt.ylabel('Log-likelihood')\n",
    "plt.show()\n",
    "loss_ibm2_pt.savefig('./result/loglikelihood-IBM2-pretrained.eps')"
   ]
  },
  {
   "cell_type": "code",
   "execution_count": 81,
   "metadata": {},
   "outputs": [
    {
     "data": {
      "image/png": "[encoded data removed]",
      "text/plain": [
       "<Figure size 432x288 with 1 Axes>"
      ]
     },
     "metadata": {
      "needs_background": "light"
     },
     "output_type": "display_data"
    }
   ],
   "source": [
    "aer_ibm2_all = plt.figure(figsize = (6, 4))\n",
    "plt.plot(iteration_pt, AER_u, label='uniform')\n",
    "plt.plot(iteration_pt, AER_r1, label='random 1')\n",
    "plt.plot(iteration_pt, AER_r2, label='random 2')\n",
    "plt.plot(iteration_pt, AER_r3, label='random 3')\n",
    "plt.plot(iteration_pt, AER_pt, label='pre-trained')\n",
    "plt.legend()\n",
    "plt.xlabel('Iteration')\n",
    "plt.ylabel('AER')\n",
    "plt.show()\n",
    "aer_ibm2_all.savefig('./result/aer-IBM2-all.eps')"
   ]
  },
  {
   "cell_type": "code",
   "execution_count": 82,
   "metadata": {},
   "outputs": [
    {
     "data": {
      "image/png": "[encoded data removed]",
      "text/plain": [
       "<Figure size 432x288 with 1 Axes>"
      ]
     },
     "metadata": {
      "needs_background": "light"
     },
     "output_type": "display_data"
    }
   ],
   "source": [
    "loss_ibm2_all = plt.figure(figsize = (6, 4))\n",
    "plt.plot(iteration_pt, t_log_u, label='uniform')\n",
    "plt.plot(iteration_pt, t_log_r1, label='random 1')\n",
    "plt.plot(iteration_pt, t_log_r2, label='random 2')\n",
    "plt.plot(iteration_pt, t_log_r3, label='random 3')\n",
    "plt.plot(iteration_pt, t_log_pt, label='pre-trained')\n",
    "plt.legend()\n",
    "plt.xlabel('Iteration')\n",
    "plt.ylabel('Log-likelihood')\n",
    "plt.show()\n",
    "loss_ibm2_all.savefig('./result/loglikelihood-IBM2-all.eps')"
   ]
  }
 ],
 "metadata": {
  "kernelspec": {
   "display_name": "Python 3",
   "language": "python",
   "name": "python3"
  },
  "language_info": {
   "codemirror_mode": {
    "name": "ipython",
    "version": 3
   },
   "file_extension": ".py",
   "mimetype": "text/x-python",
   "name": "python",
   "nbconvert_exporter": "python",
   "pygments_lexer": "ipython3",
   "version": "3.7.1"
  }
 },
 "nbformat": 4,
 "nbformat_minor": 2
}
